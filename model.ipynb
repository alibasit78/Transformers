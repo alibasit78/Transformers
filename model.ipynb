{
 "cells": [
  {
   "cell_type": "code",
   "execution_count": 1,
   "metadata": {},
   "outputs": [],
   "source": [
    "import torch\n",
    "import math\n",
    "import torch.nn as nn"
   ]
  },
  {
   "cell_type": "code",
   "execution_count": 5,
   "metadata": {},
   "outputs": [
    {
     "name": "stdout",
     "output_type": "stream",
     "text": [
      "torch.Size([5, 1])\n",
      "torch.Size([10])\n",
      "torch.Size([5, 10])\n",
      "pe1: torch.Size([5, 10])\n",
      "pe2 torch.Size([5, 10])\n",
      "div:  torch.Size([5, 10])\n",
      "pe:  torch.Size([1, 5, 20])\n"
     ]
    }
   ],
   "source": [
    "seq_len = 5; d_model = 20\n",
    "pe = torch.zeros(seq_len, d_model)\n",
    "position = torch.arange(0, seq_len, dtype=torch.float).unsqueeze(1)\n",
    "div_term = torch.exp(torch.arange(0, d_model, 2).float() * (-math.log(1000.0) / d_model))\n",
    "print(position.shape)\n",
    "print(div_term.shape)\n",
    "print((position * div_term).shape)\n",
    "#Apply the sin to even positions\n",
    "print(\"pe1:\", pe[:, 0::2].shape)\n",
    "print(\"pe2\", pe[:, 1::2].shape)\n",
    "print(\"div: \",(position * div_term).shape)\n",
    "pe[:, 0::2] = torch.sin(position * div_term)\n",
    "pe[:, 1::2] = torch.cos(position * div_term)\n",
    "pe = pe.unsqueeze(0)\n",
    "print(\"pe: \", pe.shape)"
   ]
  },
  {
   "cell_type": "code",
   "execution_count": 10,
   "metadata": {},
   "outputs": [
    {
     "name": "stdout",
     "output_type": "stream",
     "text": [
      "torch.Size([2, 4])\n",
      "tensor([[0.5921, 0.4936, 0.2702, 0.4509],\n",
      "        [0.5168, 0.4853, 0.4650, 0.5910]])\n",
      "torch.Size([2, 4, 1])\n",
      "tensor([[[0.5921],\n",
      "         [0.4936],\n",
      "         [0.2702],\n",
      "         [0.4509]],\n",
      "\n",
      "        [[0.5168],\n",
      "         [0.4853],\n",
      "         [0.4650],\n",
      "         [0.5910]]])\n",
      "torch.Size([2, 4, 10])\n"
     ]
    }
   ],
   "source": [
    "x = torch.rand(2,4,10) #batch_size x seq_len x dim\n",
    "mean1 = x.mean(dim=-1)\n",
    "print(mean1.shape)\n",
    "print(mean1)\n",
    "mean2 = x.mean(dim=-1, keepdim=True)\n",
    "print(mean2.shape)\n",
    "print(mean2)\n",
    "x = x - mean2\n",
    "print(x.shape)\n",
    "\n"
   ]
  },
  {
   "cell_type": "code",
   "execution_count": 15,
   "metadata": {},
   "outputs": [
    {
     "data": {
      "text/plain": [
       "tensor([1., 1.], requires_grad=True)"
      ]
     },
     "execution_count": 15,
     "metadata": {},
     "output_type": "execute_result"
    }
   ],
   "source": [
    "torch.ones(2).requires_grad_(True)"
   ]
  },
  {
   "cell_type": "code",
   "execution_count": 16,
   "metadata": {},
   "outputs": [
    {
     "data": {
      "text/plain": [
       "Parameter containing:\n",
       "tensor([1., 1.], requires_grad=True)"
      ]
     },
     "execution_count": 16,
     "metadata": {},
     "output_type": "execute_result"
    }
   ],
   "source": [
    "nn.Parameter(torch.ones(2))"
   ]
  },
  {
   "cell_type": "code",
   "execution_count": 3,
   "metadata": {},
   "outputs": [
    {
     "data": {
      "text/plain": [
       "torch.Size([2, 4, 3, 5])"
      ]
     },
     "execution_count": 3,
     "metadata": {},
     "output_type": "execute_result"
    }
   ],
   "source": [
    "x = torch.rand(2,3,4,5) #(B, h, S, d)\n",
    "x.transpose(1,2).contiguous().shape"
   ]
  },
  {
   "cell_type": "code",
   "execution_count": 3,
   "metadata": {},
   "outputs": [
    {
     "name": "stdout",
     "output_type": "stream",
     "text": [
      "torch.Size([2, 3, 4])\n",
      "torch.Size([2, 3, 4])\n"
     ]
    }
   ],
   "source": [
    "x = torch.rand(2,3,4)\n",
    "mean = torch.rand(2,3,1) #(B, S, d)\n",
    "y = torch.ones(4)\n",
    "print((x - mean).shape)\n",
    "print(((x-mean)*y).shape)"
   ]
  },
  {
   "cell_type": "code",
   "execution_count": null,
   "metadata": {},
   "outputs": [],
   "source": []
  }
 ],
 "metadata": {
  "kernelspec": {
   "display_name": "my_venv",
   "language": "python",
   "name": "python3"
  },
  "language_info": {
   "codemirror_mode": {
    "name": "ipython",
    "version": 3
   },
   "file_extension": ".py",
   "mimetype": "text/x-python",
   "name": "python",
   "nbconvert_exporter": "python",
   "pygments_lexer": "ipython3",
   "version": "3.9.18"
  }
 },
 "nbformat": 4,
 "nbformat_minor": 2
}
